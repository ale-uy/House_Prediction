{
 "cells": [
  {
   "cell_type": "markdown",
   "metadata": {},
   "source": [
    "Referencia: <https://www.kaggle.com/competitions/house-prices-advanced-regression-techniques>\n",
    "____"
   ]
  },
  {
   "cell_type": "markdown",
   "metadata": {},
   "source": [
    "# House Prices - Kaggle"
   ]
  },
  {
   "cell_type": "markdown",
   "metadata": {},
   "source": [
    "Importamos Librerias"
   ]
  },
  {
   "cell_type": "code",
   "execution_count": null,
   "metadata": {},
   "outputs": [],
   "source": [
    "import numpy as np\n",
    "import pandas as pd\n",
    "from vx.eda_vx import Eda, Graph\n",
    "from vx.ml_vx import ML, Tools"
   ]
  },
  {
   "cell_type": "markdown",
   "metadata": {},
   "source": [
    "Cargamos Datos"
   ]
  },
  {
   "cell_type": "code",
   "execution_count": null,
   "metadata": {},
   "outputs": [],
   "source": [
    "df = pd.read_csv('train.csv', sep = ',', index_col= 'Id', na_values='NA')\n",
    "df"
   ]
  },
  {
   "cell_type": "markdown",
   "metadata": {},
   "source": [
    "Explicacion de los datos"
   ]
  },
  {
   "cell_type": "markdown",
   "metadata": {},
   "source": [
    "Leer -> **``data_description.txt``**"
   ]
  },
  {
   "cell_type": "markdown",
   "metadata": {},
   "source": [
    "### 1) Comenzamos analizando los datos"
   ]
  },
  {
   "cell_type": "markdown",
   "metadata": {},
   "source": [
    "* Analizamos los nulos"
   ]
  },
  {
   "cell_type": "code",
   "execution_count": null,
   "metadata": {},
   "outputs": [],
   "source": [
    "Eda.analizar_nulos(df)"
   ]
  },
  {
   "cell_type": "markdown",
   "metadata": {},
   "source": [
    "* Hay muchos datos faltantes en algunas variables, lo que haremos es eliminar las variables que tengan mas del 50% de sus datos faltantes"
   ]
  },
  {
   "cell_type": "code",
   "execution_count": null,
   "metadata": {},
   "outputs": [],
   "source": [
    "df = Eda.eliminar_nulos_si(df,p=0.5)\n",
    "f'Nos quedan {df.shape[1]} variables'"
   ]
  },
  {
   "cell_type": "markdown",
   "metadata": {},
   "source": [
    "* Ahora imputaremos los valores faltantes con el metodo de Mediana y Moda segun sea variable numerica o categorica respectivamente"
   ]
  },
  {
   "cell_type": "code",
   "execution_count": null,
   "metadata": {},
   "outputs": [],
   "source": [
    "df = Eda.imputar_faltantes(df,metodo='mm')\n",
    "Eda.analizar_nulos(df)"
   ]
  },
  {
   "cell_type": "markdown",
   "metadata": {},
   "source": [
    "* Analicemos si tenemos variables con un solo valor y las eliminaremos"
   ]
  },
  {
   "cell_type": "code",
   "execution_count": null,
   "metadata": {},
   "outputs": [],
   "source": [
    "df = Eda.eliminar_unitarios(df)\n",
    "f'Quedan {df.shape[1]} variables'"
   ]
  },
  {
   "cell_type": "markdown",
   "metadata": {},
   "source": [
    "* Analizemos graficamente las variables categoricas"
   ]
  },
  {
   "cell_type": "code",
   "execution_count": null,
   "metadata": {},
   "outputs": [],
   "source": [
    "Graph.graficos_categoricos(df)"
   ]
  },
  {
   "cell_type": "markdown",
   "metadata": {},
   "source": [
    "Nota: *Vemos algunas categorias bastante desbalanceadas, lo que puede influir en la precision de los resultados*"
   ]
  },
  {
   "cell_type": "markdown",
   "metadata": {},
   "source": [
    "* Analicemos ahora las estadisticas numericas"
   ]
  },
  {
   "cell_type": "code",
   "execution_count": null,
   "metadata": {},
   "outputs": [],
   "source": [
    "Eda.estadisticos_numericos(df)"
   ]
  },
  {
   "cell_type": "markdown",
   "metadata": {},
   "source": [
    "Nota: *Vemos que tenemos amplio rango de valores en nuestras variables, lo que haremos sera estandarizarlas para que sus pesos no influyan en el resultado (usaremos Z-Score)*"
   ]
  },
  {
   "cell_type": "code",
   "execution_count": null,
   "metadata": {},
   "outputs": [],
   "source": [
    "df = Eda.estandarizar_variables(df,\"SalePrice\",metodo=\"zscore\")\n",
    "df"
   ]
  },
  {
   "cell_type": "markdown",
   "metadata": {},
   "source": [
    "* Ahora necesitaremos convertir a numericas nuestras variables categoricas, hay varias opciones pero utilizare dummies"
   ]
  },
  {
   "cell_type": "code",
   "execution_count": null,
   "metadata": {},
   "outputs": [],
   "source": [
    "df = Eda.convertir_a_numericas(df,target=\"SalePrice\",metodo=\"ohe\")\n",
    "df"
   ]
  },
  {
   "cell_type": "markdown",
   "metadata": {},
   "source": [
    "Nota: *ahora tenemos 237 columnas, deberemos analizar si todas ellas aportan valor al modelo*"
   ]
  },
  {
   "cell_type": "markdown",
   "metadata": {},
   "source": [
    "* Medimos el aporte de las variables mediante un modelo de Random Forest"
   ]
  },
  {
   "cell_type": "code",
   "execution_count": null,
   "metadata": {},
   "outputs": [],
   "source": [
    "Tools.importancia_variables(df,\"SalePrice\",random_state=1,peores=15)"
   ]
  },
  {
   "cell_type": "markdown",
   "metadata": {},
   "source": [
    "Nota: *Vemos que podemos eliminar varias variables que no nos aportan nada, por lo tanto vamos a eliminarlas*"
   ]
  },
  {
   "cell_type": "code",
   "execution_count": null,
   "metadata": {},
   "outputs": [],
   "source": [
    "df = Tools.importancia_variables(df,\"SalePrice\",eliminar=True,umbral=0.00045,random_state=1)\n",
    "df.shape[1]"
   ]
  },
  {
   "cell_type": "markdown",
   "metadata": {},
   "source": [
    "### 2) Analicemos los modelos de Machine Learning posibles"
   ]
  },
  {
   "cell_type": "markdown",
   "metadata": {},
   "source": [
    "* Correremos 3 modelos y elegiremos el que nos de el mejor resultado de ``mse``"
   ]
  },
  {
   "cell_type": "code",
   "execution_count": null,
   "metadata": {},
   "outputs": [],
   "source": [
    "ML.modelo_catboost(df,\"SalePrice\",\"regresion\",random_state=1)"
   ]
  },
  {
   "cell_type": "code",
   "execution_count": null,
   "metadata": {},
   "outputs": [],
   "source": [
    "ML.modelo_lightgbm(df,\"SalePrice\",\"regresion\",random_state=1)"
   ]
  },
  {
   "cell_type": "code",
   "execution_count": null,
   "metadata": {},
   "outputs": [],
   "source": [
    "ML.modelo_xgboost(df,\"SalePrice\",\"regresion\",random_state=1,save_model=True)"
   ]
  },
  {
   "cell_type": "markdown",
   "metadata": {},
   "source": [
    "Nota: *El Modelo XGBoost es quien nos dio el menor error cuadratico medio (MSE) por lo que es el que utilizaremos*"
   ]
  },
  {
   "cell_type": "markdown",
   "metadata": {},
   "source": [
    "* Trataremos de mejor nuestro modelo con una busqueda de hiperparametros activando el gridsearch"
   ]
  },
  {
   "cell_type": "code",
   "execution_count": null,
   "metadata": {},
   "outputs": [],
   "source": [
    "ML.modelo_xgboost(df,\"SalePrice\",\"regresion\",random_state=1,grid=True,save_model=True)"
   ]
  },
  {
   "cell_type": "markdown",
   "metadata": {},
   "source": [
    "### 3) Ahora que tenemos el modelo entrenado y guardado, podemos usarlo para predecir los valores de las casas"
   ]
  },
  {
   "cell_type": "markdown",
   "metadata": {},
   "source": [
    "* Cargamos los datos de test"
   ]
  },
  {
   "cell_type": "code",
   "execution_count": null,
   "metadata": {},
   "outputs": [],
   "source": [
    "test = pd.read_csv('test.csv', sep = ',', index_col= 'Id', na_values='NA')\n",
    "test"
   ]
  },
  {
   "cell_type": "markdown",
   "metadata": {},
   "source": [
    "* Aplicamos los mismos cambios que hicimos al anterior set de datos"
   ]
  },
  {
   "cell_type": "code",
   "execution_count": null,
   "metadata": {},
   "outputs": [],
   "source": [
    "# Hacemos una trampita para que no nos de problemas\n",
    "test['A'] = np.random.choice(range(1, 100), size=1459)"
   ]
  },
  {
   "cell_type": "code",
   "execution_count": null,
   "metadata": {},
   "outputs": [],
   "source": [
    "test = Eda.imputar_faltantes(test,metodo='mm')\n",
    "test = Eda.convertir_a_numericas(test,target=\"A\",metodo=\"ohe\")\n",
    "test"
   ]
  },
  {
   "cell_type": "code",
   "execution_count": null,
   "metadata": {},
   "outputs": [],
   "source": [
    "# Lista de columnas en df\n",
    "df1 = df.drop(columns=[\"SalePrice\"],axis=1)\n",
    "columns_to_keep = df1.columns.tolist()\n",
    "\n",
    "# Elimina las columnas de test que no están en df\n",
    "data = test[columns_to_keep]\n",
    "data"
   ]
  },
  {
   "cell_type": "markdown",
   "metadata": {},
   "source": [
    "* Cargamos el modelo y predecimos con los datos de test"
   ]
  },
  {
   "cell_type": "code",
   "execution_count": null,
   "metadata": {},
   "outputs": [],
   "source": [
    "import joblib\n",
    "\n",
    "# Ruta y nombre del archivo donde se guardó el modelo\n",
    "model_filename = \"xgboost.pkl\"\n",
    "# Cargar el modelo\n",
    "loaded_model = joblib.load(model_filename)\n",
    "# Ahora puedes utilizar el modelo cargado para hacer predicciones\n",
    "# Supongamos que tienes un conjunto de datos 'X_test' para hacer predicciones\n",
    "y_pred = loaded_model.predict(data)"
   ]
  },
  {
   "cell_type": "markdown",
   "metadata": {},
   "source": [
    "* Mostramos los datos predecidos, agregamos los datos al dataset de test y guardamos en csv"
   ]
  },
  {
   "cell_type": "code",
   "execution_count": null,
   "metadata": {},
   "outputs": [],
   "source": [
    "y_pred"
   ]
  },
  {
   "cell_type": "code",
   "execution_count": null,
   "metadata": {},
   "outputs": [],
   "source": [
    "house_predict = pd.read_csv('test.csv', sep = ',', na_values='NA')\n",
    "house_predict[\"SalePrice\"] = y_pred"
   ]
  },
  {
   "cell_type": "code",
   "execution_count": null,
   "metadata": {},
   "outputs": [],
   "source": [
    "try:\n",
    "    house_predict.to_csv('house_predict.csv')\n",
    "    print(\"Los datos se guardaron exitosamente\")\n",
    "except Exception as e:\n",
    "    print(f\"Se genero un problema durante el guardado. Descripcion {e}\")"
   ]
  },
  {
   "cell_type": "markdown",
   "metadata": {},
   "source": [
    "### 4) Datos a utilizar en Kaggle"
   ]
  },
  {
   "cell_type": "code",
   "execution_count": null,
   "metadata": {},
   "outputs": [],
   "source": [
    "kaggle = house_predict[[\"Id\",\"SalePrice\"]]"
   ]
  },
  {
   "cell_type": "code",
   "execution_count": null,
   "metadata": {},
   "outputs": [],
   "source": [
    "kaggle"
   ]
  },
  {
   "cell_type": "code",
   "execution_count": null,
   "metadata": {},
   "outputs": [],
   "source": [
    "try:\n",
    "    kaggle.to_csv('kaggle.csv',index=None)\n",
    "    print(\"Los datos se guardaron exitosamente\")\n",
    "except Exception as e:\n",
    "    print(f\"Se genero un problema durante el guardado. Descripcion {e}\")"
   ]
  },
  {
   "cell_type": "markdown",
   "metadata": {},
   "source": [
    "### 5) Resultado Final en Kaggle con este modelo"
   ]
  },
  {
   "cell_type": "code",
   "execution_count": null,
   "metadata": {},
   "outputs": [],
   "source": [
    "print(f'root-mean-square error (RMSE) = {0.14415} \\nPosition: 1672/4101 \\nBest R^2 (aqui) = 0.91')"
   ]
  }
 ],
 "metadata": {
  "kernelspec": {
   "display_name": "base",
   "language": "python",
   "name": "python3"
  },
  "language_info": {
   "codemirror_mode": {
    "name": "ipython",
    "version": 3
   },
   "file_extension": ".py",
   "mimetype": "text/x-python",
   "name": "python",
   "nbconvert_exporter": "python",
   "pygments_lexer": "ipython3",
   "version": "3.9.16"
  },
  "orig_nbformat": 4
 },
 "nbformat": 4,
 "nbformat_minor": 2
}
